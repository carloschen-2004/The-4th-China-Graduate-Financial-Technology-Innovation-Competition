{
 "cells": [
  {
   "cell_type": "markdown",
   "id": "520095a3-d0da-4b7f-a85d-6e83ad4a2c01",
   "metadata": {},
   "source": [
    "### 第一步：将特征完全相同的产品归并"
   ]
  },
  {
   "cell_type": "code",
   "execution_count": 1,
   "id": "dc48dfe0-8e51-4361-b7c5-a7356100cbbf",
   "metadata": {},
   "outputs": [],
   "source": [
    "import pandas as pd\n",
    "input_file = \"../productLabels_multiSpreadsheets.xlsx\"\n",
    "output_file = \"./first_cluster.xlsx\"\n",
    "product_column = \"prod_id\""
   ]
  },
  {
   "cell_type": "code",
   "execution_count": 5,
   "id": "0ece0b76-08b0-486a-b741-755d7293e238",
   "metadata": {},
   "outputs": [
    {
     "name": "stdout",
     "output_type": "stream",
     "text": [
      "正在处理 sheet：D ...\n",
      "正在处理 sheet：C ...\n",
      "正在处理 sheet：A ...\n",
      "正在处理 sheet：N ...\n",
      "正在处理 sheet：P ...\n",
      "✅ 全部处理完成！结果已保存为：./first_cluster.xlsx\n"
     ]
    }
   ],
   "source": [
    "# 读取xlsx文件\n",
    "all_sheets = pd.read_excel(input_file, sheet_name=None)\n",
    "# 2. 创建一个空字典，用于存储每个sheet处理后的结果\n",
    "grouped_results = {}\n",
    "# 3. 逐个sheet处理\n",
    "for sheet_name, df in all_sheets.items():\n",
    "    print(f\"正在处理 sheet：{sheet_name} ...\")\n",
    "    # 检查产品名称列是否存在\n",
    "    if product_column not in df.columns:\n",
    "        print(f\"⚠️ 跳过 {sheet_name}：未找到列 '{product_column}'\")\n",
    "        continue\n",
    "    # 获取特征列（除产品列外）\n",
    "    feature_cols = [col for col in df.columns if col != product_column]\n",
    "    # 按特征列分组，收集产品列表\n",
    "    grouped = (\n",
    "        df.groupby(feature_cols, dropna=False)[product_column]\n",
    "        .apply(list)\n",
    "        .reset_index()\n",
    "        .rename(columns={product_column: \"prod_id_list\"})\n",
    "    )\n",
    "    # 调整列顺序 & 按第一个产品排序\n",
    "    cols = [\"prod_id_list\"] + [c for c in grouped.columns if c != \"prod_id_list\"]\n",
    "    grouped = grouped[cols]\n",
    "    grouped = grouped.sort_values(by=\"prod_id_list\", key=lambda x: x.str[0])\n",
    "    # 存入结果字典\n",
    "    grouped_results[sheet_name] = grouped\n",
    "\n",
    "# 4. 将所有结果写入新的Excel文件\n",
    "with pd.ExcelWriter(output_file) as writer:\n",
    "    for sheet_name, grouped_df in grouped_results.items():\n",
    "        grouped_df.to_excel(writer, sheet_name=sheet_name, index=False)\n",
    "\n",
    "print(f\"✅ 全部处理完成！结果已保存为：{output_file}\")"
   ]
  },
  {
   "cell_type": "code",
   "execution_count": null,
   "id": "194a67d7-cadc-4de6-a7a7-4b1929e71f2d",
   "metadata": {},
   "outputs": [],
   "source": []
  }
 ],
 "metadata": {
  "kernelspec": {
   "display_name": "Python 3 (ipykernel)",
   "language": "python",
   "name": "python3"
  },
  "language_info": {
   "codemirror_mode": {
    "name": "ipython",
    "version": 3
   },
   "file_extension": ".py",
   "mimetype": "text/x-python",
   "name": "python",
   "nbconvert_exporter": "python",
   "pygments_lexer": "ipython3",
   "version": "3.12.7"
  }
 },
 "nbformat": 4,
 "nbformat_minor": 5
}
